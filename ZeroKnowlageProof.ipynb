{
 "cells": [
  {
   "cell_type": "code",
   "execution_count": 6,
   "metadata": {},
   "outputs": [
    {
     "name": "stdout",
     "output_type": "stream",
     "text": [
      "N= 2323\n",
      "x= 169\n",
      "s1= 5 s2= 7 s3= 3\n",
      "a1= 1 a2= 0 a3= 1\n",
      "Y= 195  y^2 mod n =  857\n",
      "25 49 9\n",
      "857\n",
      "Y= 857\n"
     ]
    }
   ],
   "source": [
    "n=101*23\n",
    "r=13\n",
    "\n",
    "s1=5\n",
    "s2=7\n",
    "s3=3\n",
    "\n",
    "a1=1\n",
    "a2=0\n",
    "a3=1\n",
    "\n",
    "print ('N=',n)\n",
    "x = (r**2) % n\n",
    "print ('x=',x)\n",
    "print ('s1=',s1,'s2=',s2,'s3=',s3)\n",
    "print ('a1=',a1,'a2=',a2,'a3=',a3)\n",
    "y = (r * ((s1**a1) * (s2**a2) * (s3**a3)) ) % n\n",
    "\n",
    "print ('Y=',y, ' y^2 mod n = ',(y**2 % n))\n",
    "\n",
    "v1=(s1**2) %n\n",
    "v2=(s2**2) %n\n",
    "v3=(s3**2) %n\n",
    "\n",
    "print(v1,v2,v3)\n",
    "y2 = (x * ( (v1**a1) * (v2**a2) * (v3**a3)) ) % n\n",
    "print (y2)\n",
    "print ('Y=',(y**2) %n)"
   ]
  },
  {
   "cell_type": "code",
   "execution_count": null,
   "metadata": {},
   "outputs": [],
   "source": []
  }
 ],
 "metadata": {
  "kernelspec": {
   "display_name": "Python 3",
   "language": "python",
   "name": "python3"
  },
  "language_info": {
   "codemirror_mode": {
    "name": "ipython",
    "version": 3
   },
   "file_extension": ".py",
   "mimetype": "text/x-python",
   "name": "python",
   "nbconvert_exporter": "python",
   "pygments_lexer": "ipython3",
   "version": "3.7.4"
  }
 },
 "nbformat": 4,
 "nbformat_minor": 2
}
